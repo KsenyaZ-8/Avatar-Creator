{
  "nbformat": 4,
  "nbformat_minor": 0,
  "metadata": {
    "colab": {
      "name": "Untitled21.ipynb",
      "provenance": [],
      "authorship_tag": "ABX9TyMz1PdZ2hijQiDZvmi/HU2Y",
      "include_colab_link": true
    },
    "kernelspec": {
      "name": "python3",
      "display_name": "Python 3"
    },
    "language_info": {
      "name": "python"
    }
  },
  "cells": [
    {
      "cell_type": "markdown",
      "metadata": {
        "id": "view-in-github",
        "colab_type": "text"
      },
      "source": [
        "<a href=\"https://colab.research.google.com/github/KsenyaZ-8/Avatar-Creator/blob/master/Untitled21.ipynb\" target=\"_parent\"><img src=\"https://colab.research.google.com/assets/colab-badge.svg\" alt=\"Open In Colab\"/></a>"
      ]
    },
    {
      "cell_type": "code",
      "metadata": {
        "id": "UuwVF0YZoFwt"
      },
      "source": [
        "a = []  # заводим пустой список\n",
        "n = int(input())  # считываем количество элемент в списке\n",
        "for i in range(n):  \n",
        "    new_element = int(input())  # считываем очередной элемент\n",
        "    a.append(new_element)  # добавляем его в список\n",
        "    # последние две строки можно было заменить одной:\n",
        "    # a.append(int(input()))\n",
        "print(a)"
      ],
      "execution_count": null,
      "outputs": []
    },
    {
      "cell_type": "code",
      "metadata": {
        "id": "5rPMBVlSoR4Z"
      },
      "source": [
        "a = []\n",
        "for i in range(int(input())):\n",
        "    a.append(int(input()))\n",
        "print(a)\n"
      ],
      "execution_count": null,
      "outputs": []
    },
    {
      "cell_type": "code",
      "metadata": {
        "id": "QfdKeLjgoaxM"
      },
      "source": [
        "a = [1, 2, 3]\n",
        "b = [4, 5]\n",
        "c = a + b\n",
        "d = b * 3\n",
        "print([7, 8] + [9])\n",
        "print([0, 1] * 3)"
      ],
      "execution_count": null,
      "outputs": []
    },
    {
      "cell_type": "code",
      "metadata": {
        "id": "qYwC5h2Ronr6"
      },
      "source": [
        "a = [1, 2, 3, 4, 5]\n",
        "for i in range(len(a)):\n",
        "    print(a[i])"
      ],
      "execution_count": null,
      "outputs": []
    },
    {
      "cell_type": "code",
      "metadata": {
        "id": "okVEsEtXoyXc"
      },
      "source": [
        "# дано: s = 'ab12c59p7dq'\n",
        "# надо: извлечь цифры в список digits,\n",
        "# чтобы стало так:\n",
        "# digits == [1, 2, 5, 9, 7]\n",
        "\n",
        "s = 'ab12c59p7dq'\n",
        "digits = []\n",
        "for symbol in s:\n",
        "    if '1234567890'.find(symbol) != -1:\n",
        "        digits.append(int(symbol))\n",
        "print(digits)"
      ],
      "execution_count": null,
      "outputs": []
    },
    {
      "cell_type": "code",
      "metadata": {
        "id": "TCu_mH7hozoS"
      },
      "source": [
        "# на вход подаётся строка\n",
        "# 1 2 3\n",
        "s = input()  # s == '1 2 3'\n",
        "a = s.split()  # a == ['1', '2', '3']\n"
      ],
      "execution_count": null,
      "outputs": []
    },
    {
      "cell_type": "code",
      "metadata": {
        "id": "kIjLJbNko8ro"
      },
      "source": [
        "a = input().split()\n",
        "for i in range(len(a)):\n",
        "    a[i] = int(a[i])"
      ],
      "execution_count": null,
      "outputs": []
    },
    {
      "cell_type": "code",
      "metadata": {
        "id": "7SyoiHwWpIyk"
      },
      "source": [
        "a = ['red', 'green', 'blue']\n",
        "print(' '.join(a))\n",
        "# вернёт red green blue\n",
        "print(''.join(a))\n",
        "# вернёт redgreenblue\n",
        "print('***'.join(a))\n",
        "# вернёт red***green***blue"
      ],
      "execution_count": null,
      "outputs": []
    },
    {
      "cell_type": "code",
      "metadata": {
        "id": "1UsV0140pUd5"
      },
      "source": [
        "[выражение for переменная in последовательность]"
      ],
      "execution_count": null,
      "outputs": []
    },
    {
      "cell_type": "code",
      "metadata": {
        "id": "jRfo2ioEpVYZ"
      },
      "source": [
        "a = [0 for i in range(5)]"
      ],
      "execution_count": null,
      "outputs": []
    },
    {
      "cell_type": "code",
      "metadata": {
        "id": "gQhJZS9fpZyK"
      },
      "source": [
        "n = 5\n",
        "a = [i ** 2 for i in range(n)]"
      ],
      "execution_count": null,
      "outputs": []
    },
    {
      "cell_type": "code",
      "metadata": {
        "id": "k0BmxujKps5i"
      },
      "source": [
        "from random import randrange\n",
        "n = 10\n",
        "a = [randrange(1, 10) for i in range(n)]"
      ],
      "execution_count": null,
      "outputs": []
    },
    {
      "cell_type": "code",
      "metadata": {
        "colab": {
          "base_uri": "https://localhost:8080/"
        },
        "id": "LP1l21COqNQZ",
        "outputId": "c61f60ca-3dea-4a7c-95ed-449e576e9267"
      },
      "source": [
        "A = [1, 2, 3, 4, 5]\n",
        "A[2:4] = [7, 8, 9]\n",
        "print(A)"
      ],
      "execution_count": 1,
      "outputs": [
        {
          "output_type": "stream",
          "name": "stdout",
          "text": [
            "[1, 2, 7, 8, 9, 5]\n"
          ]
        }
      ]
    },
    {
      "cell_type": "code",
      "metadata": {
        "id": "lVbFGvCsqVto"
      },
      "source": [
        "A = [1, 2, 3, 4, 5, 6,  7]\n",
        "A[::-2] = [10, 20, 30, 40]"
      ],
      "execution_count": null,
      "outputs": []
    }
  ]
}